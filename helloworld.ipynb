{
 "cells": [
  {
   "cell_type": "code",
   "execution_count": 399,
   "metadata": {},
   "outputs": [],
   "source": [
    "from gfn.env import DiscreteEnv\n",
    "from gfn.states import DiscreteStates\n",
    "import torch\n",
    "from torchtyping import TensorType as TT\n",
    "import random\n",
    "from tqdm import tqdm\n",
    "from gfn.actions import Actions\n",
    "from gfn.preprocessors import Preprocessor\n",
    "from gfn.states import States\n",
    "import torch.nn.functional as F\n"
   ]
  },
  {
   "cell_type": "code",
   "execution_count": 402,
   "metadata": {},
   "outputs": [],
   "source": [
    "class BoardPreprocessor(Preprocessor):\n",
    "    def preprocess(self, states: States):\n",
    "        batch_shape = states.tensor.shape[:-2]\n",
    "        one_hot_rep = F.one_hot(states.tensor.flatten(len(batch_shape)))\n",
    "        return one_hot_rep.reshape(list(batch_shape) + [-1])\n",
    "    \n",
    "processor = BoardPreprocessor(output_dim=256)"
   ]
  },
  {
   "cell_type": "code",
   "execution_count": 346,
   "metadata": {},
   "outputs": [],
   "source": [
    "DIR_UP = 0\n",
    "DIR_RIGHT = 1\n",
    "DIR_DOWN = 2\n",
    "DIR_LEFT = 3\n",
    "\n",
    "def move(board, dir):\n",
    "    new_board = board.clone()\n",
    "    gap_coord = torch.where(new_board == 0)\n",
    "    if(dir == DIR_UP and gap_coord[0] > 0):\n",
    "        new_board[gap_coord[0], gap_coord[1]] = new_board[gap_coord[0]-1, gap_coord[1]] \n",
    "        new_board[gap_coord[0]-1, gap_coord[1]] = 0\n",
    "    elif(dir == DIR_RIGHT and gap_coord[1] < 3):\n",
    "        new_board[gap_coord[0], gap_coord[1]] = new_board[gap_coord[0], gap_coord[1]+1]\n",
    "        new_board[gap_coord[0], gap_coord[1]+1] = 0\n",
    "    if(dir == DIR_DOWN and gap_coord[0] < 3):\n",
    "        new_board[gap_coord[0], gap_coord[1]] = new_board[gap_coord[0]+1, gap_coord[1]] \n",
    "        new_board[gap_coord[0]+1, gap_coord[1]] = 0\n",
    "    elif(dir == DIR_LEFT and gap_coord[1] > 0):\n",
    "        new_board[gap_coord[0], gap_coord[1]] = new_board[gap_coord[0], gap_coord[1]-1]\n",
    "        new_board[gap_coord[0], gap_coord[1]-1] = 0\n",
    "    return new_board\n",
    "\n",
    "def random_board():\n",
    "    board = torch.arange(0,16).reshape((4,4))\n",
    "    for i in range(100):\n",
    "        board = move(board, random.randint(0,3))\n",
    "    return board\n",
    "\n"
   ]
  },
  {
   "cell_type": "code",
   "execution_count": 708,
   "metadata": {},
   "outputs": [],
   "source": [
    "boards = torch.stack([random_board() for i in range(128)])"
   ]
  },
  {
   "cell_type": "code",
   "execution_count": 710,
   "metadata": {},
   "outputs": [],
   "source": [
    "movements = torch.randint(0, 4, size=(128,10))"
   ]
  },
  {
   "cell_type": "code",
   "execution_count": 712,
   "metadata": {},
   "outputs": [],
   "source": [
    "from model import BoardTransformer"
   ]
  },
  {
   "cell_type": "code",
   "execution_count": 714,
   "metadata": {},
   "outputs": [],
   "source": [
    "bt = BoardTransformer(32, 8, 5, 5, 4)"
   ]
  },
  {
   "cell_type": "code",
   "execution_count": 717,
   "metadata": {},
   "outputs": [],
   "source": [
    "out = bt(boards, movements)"
   ]
  },
  {
   "cell_type": "code",
   "execution_count": 718,
   "metadata": {},
   "outputs": [
    {
     "data": {
      "text/plain": [
       "tensor([0.1169, 0.4596, 0.3559, 0.0676], grad_fn=<SelectBackward0>)"
      ]
     },
     "execution_count": 718,
     "metadata": {},
     "output_type": "execute_result"
    }
   ],
   "source": [
    "out[0, -1]"
   ]
  },
  {
   "cell_type": "code",
   "execution_count": 236,
   "metadata": {},
   "outputs": [],
   "source": [
    "class PuzzleGrid(DiscreteEnv):\n",
    "    def __init__(\n",
    "            self,\n",
    "            max_steps=100,\n",
    "            device='cpu',\n",
    "    ):\n",
    "        self.s0 = torch.zeros(max_steps, dtype=torch.int, device=torch.device(device))\n",
    "        self.device = device\n",
    "        self.max_steps = max_steps\n",
    "        super().__init__(\n",
    "            n_actions=4,\n",
    "            s0=self.s0,\n",
    "            preprocessor=BoardPreprocessor(output_dim=256),\n",
    "        )\n",
    "        \n",
    "    def make_States_class(self) -> type[DiscreteStates]:\n",
    "        class GameStates(DiscreteStates):\n",
    "            state_shape = (4,4)\n",
    "            s0 = self.s0\n",
    "            n_actions = 4\n",
    "            device = self.device\n",
    "\n",
    "            @classmethod\n",
    "            def make_random_states_tensor(cls, batch_shape: tuple[int]) -> TT:\n",
    "                return torch.stack([random_board() for i in range(100)]).reshape(list(batch_shape) + [4,4])\n",
    "\n",
    "    def maskless_step(self, states: DiscreteStates, actions: Actions):\n",
    "        pass                                                                                                                                                        3\n",
    "    \n",
    "    def true_reward(self, final_states: DiscreteStates):\n",
    "        batch_shape = final_states.tensor.shape[:-2]\n",
    "        ground_truth = torch.arange(16).reshape(4,4).expand_as(final_states.tensor)\n",
    "        diff = final_states.tensor - ground_truth\n",
    "        return (diff == 0).reshape(list(batch_shape) + [-1]).count_nonzero(dim=2)\n",
    "        "
   ]
  },
  {
   "cell_type": "code",
   "execution_count": 152,
   "metadata": {},
   "outputs": [],
   "source": [
    "class GameBoard:\n",
    "    def __init__(self, dims):\n",
    "        n_entries = dims[0] * dims[1]\n",
    "        n_entries = 16\n",
    "        self.board = torch.arange(0,n_entries).reshape(dims)\n",
    "        self.curr_empty = (0,0)\n",
    "\n",
    "    def move(self, axis, magn):\n",
    "        gap_coord = torch.where(self.board == 0)\n",
    "        if(axis not in [0,1] or magn not in [0,1,2,3]):\n",
    "            return\n",
    "        \n",
    "        if(axis == 0):\n",
    "            if(magn > gap_coord[0]):\n",
    "                for i in range(gap_coord[0], magn):\n",
    "                    self.board[i,gap_coord[1]] = self.board[i+1, gap_coord[1]]\n",
    "                self.board[magn, gap_coord[1]] = 0\n",
    "\n",
    "            if(magn < gap_coord[0]):\n",
    "                for i in range(gap_coord[0], magn, -1):\n",
    "                    self.board[i,gap_coord[1]] = self.board[i-1, gap_coord[1]]\n",
    "                self.board[magn, gap_coord[1]] = 0\n",
    "            \n",
    "        if(axis == 1):\n",
    "            if(magn > gap_coord[1]):\n",
    "                for i in range(gap_coord[1], magn):\n",
    "                    self.board[gap_coord[0], i] = self.board[gap_coord[0], i+1]\n",
    "                self.board[gap_coord[0], magn] = 0\n",
    "\n",
    "            if(magn < gap_coord[1]):\n",
    "                for i in range(gap_coord[1], magn, -1):\n",
    "                    self.board[gap_coord[0], i] = self.board[gap_coord[0], i-1]\n",
    "                self.board[gap_coord[0], magn] = 0\n",
    "        \n",
    "\n",
    "    def shuffle(self, n_moves=100):\n",
    "        for _ in range(n_moves):\n",
    "            self.move(random.randint(0,1), random.randint(0,3))"
   ]
  },
  {
   "cell_type": "code",
   "execution_count": 192,
   "metadata": {},
   "outputs": [],
   "source": [
    "def random_board():\n",
    "    board = torch.arange(0,16).reshape((4,4))\n",
    "    for i in range(100):\n",
    "        board = move(board,random.randint(0,1), random.randint(0,3))\n",
    "    return board"
   ]
  },
  {
   "cell_type": "code",
   "execution_count": 201,
   "metadata": {},
   "outputs": [
    {
     "data": {
      "text/plain": [
       "tensor([[ 5,  0,  2,  3],\n",
       "        [13, 10, 11,  6],\n",
       "        [ 1, 14, 12,  7],\n",
       "        [ 4,  9,  8, 15]])"
      ]
     },
     "execution_count": 201,
     "metadata": {},
     "output_type": "execute_result"
    }
   ],
   "source": [
    "random_board()"
   ]
  },
  {
   "cell_type": "code",
   "execution_count": 153,
   "metadata": {},
   "outputs": [],
   "source": [
    "board = GameBoard([4,4])"
   ]
  },
  {
   "cell_type": "code",
   "execution_count": 154,
   "metadata": {},
   "outputs": [],
   "source": [
    "board.shuffle(1000)"
   ]
  },
  {
   "cell_type": "code",
   "execution_count": 155,
   "metadata": {},
   "outputs": [
    {
     "data": {
      "text/plain": [
       "tensor([[ 5, 11, 14,  1],\n",
       "        [ 2,  6,  4, 10],\n",
       "        [ 3, 13,  0, 15],\n",
       "        [12,  7,  8,  9]])"
      ]
     },
     "execution_count": 155,
     "metadata": {},
     "output_type": "execute_result"
    }
   ],
   "source": [
    "board.board"
   ]
  },
  {
   "cell_type": "code",
   "execution_count": 11,
   "metadata": {},
   "outputs": [],
   "source": [
    "dims = [4,4]"
   ]
  },
  {
   "cell_type": "code",
   "execution_count": 4,
   "metadata": {},
   "outputs": [],
   "source": []
  },
  {
   "cell_type": "code",
   "execution_count": 81,
   "metadata": {},
   "outputs": [],
   "source": [
    "def move(board, axis, magn):\n",
    "    new_board = board.clone()\n",
    "    gap_coord = torch.where(new_board == 0)\n",
    "    if(axis == 0):\n",
    "        if(magn > gap_coord[0]):\n",
    "            for i in range(gap_coord[0], magn):\n",
    "                new_board[i,gap_coord[1]] = new_board[i+1, gap_coord[1]]\n",
    "            new_board[magn, gap_coord[1]] = 0\n",
    "\n",
    "        if(magn < gap_coord[0]):\n",
    "            for i in range(gap_coord[0], magn, -1):\n",
    "                new_board[i,gap_coord[1]] = new_board[i-1, gap_coord[1]]\n",
    "            new_board[magn, gap_coord[1]] = 0\n",
    "        \n",
    "    \n",
    "    if(axis == 1):\n",
    "        if(magn > gap_coord[1]):\n",
    "            for i in range(gap_coord[1], magn):\n",
    "                new_board[gap_coord[0], i] = new_board[gap_coord[0], i+1]\n",
    "            new_board[gap_coord[0], magn] = 0\n",
    "\n",
    "        if(magn < gap_coord[1]):\n",
    "            for i in range(gap_coord[1], magn, -1):\n",
    "                new_board[gap_coord[0], i] = new_board[gap_coord[0], i-1]\n",
    "            new_board[gap_coord[0], magn] = 0\n",
    "    return new_board\n"
   ]
  },
  {
   "cell_type": "code",
   "execution_count": 114,
   "metadata": {},
   "outputs": [
    {
     "name": "stdout",
     "output_type": "stream",
     "text": [
      "tensor([[ 0,  1,  2,  3],\n",
      "        [ 4,  5,  6,  7],\n",
      "        [ 8,  9, 10, 11],\n",
      "        [12, 13, 14, 15]])\n"
     ]
    }
   ],
   "source": [
    "n_entries = dims[0] * dims[1]\n",
    "board = torch.arange(0,n_entries).reshape(dims)\n",
    "print(board)"
   ]
  },
  {
   "cell_type": "code",
   "execution_count": 118,
   "metadata": {},
   "outputs": [
    {
     "name": "stdout",
     "output_type": "stream",
     "text": [
      "tensor([[ 1,  5,  2,  3],\n",
      "        [ 4,  6,  0,  7],\n",
      "        [ 8,  9, 10, 11],\n",
      "        [12, 13, 14, 15]])\n",
      "tensor([[ 1,  5,  2,  3],\n",
      "        [ 0,  4,  6,  7],\n",
      "        [ 8,  9, 10, 11],\n",
      "        [12, 13, 14, 15]])\n"
     ]
    }
   ],
   "source": [
    "print(board)\n",
    "board = move(board, 1, 0)\n",
    "print(board)"
   ]
  },
  {
   "cell_type": "markdown",
   "metadata": {},
   "source": [
    "## each move operation can be specified as\n",
    "## (axis, magn) where axis=0,1 and magn=0,1,2,3.\n",
    "## Along the specified axis and magnitude, the entries are moved to fill the current gap, and a new gap is created"
   ]
  },
  {
   "cell_type": "code",
   "execution_count": 159,
   "metadata": {},
   "outputs": [
    {
     "name": "stderr",
     "output_type": "stream",
     "text": [
      "  0%|          | 0/1000 [00:00<?, ?it/s]"
     ]
    },
    {
     "name": "stderr",
     "output_type": "stream",
     "text": [
      "  6%|▌         | 59/1000 [00:04<01:14, 12.63it/s, loss=1.39]\n"
     ]
    },
    {
     "ename": "KeyboardInterrupt",
     "evalue": "",
     "output_type": "error",
     "traceback": [
      "\u001b[0;31m---------------------------------------------------------------------------\u001b[0m",
      "\u001b[0;31mKeyboardInterrupt\u001b[0m                         Traceback (most recent call last)",
      "Cell \u001b[0;32mIn[159], line 53\u001b[0m\n\u001b[1;32m     50\u001b[0m \u001b[39m# 6 - We train the GFlowNet for 1000 iterations, with 16 trajectories per iteration\u001b[39;00m\n\u001b[1;32m     52\u001b[0m \u001b[39mfor\u001b[39;00m i \u001b[39min\u001b[39;00m (pbar \u001b[39m:=\u001b[39m tqdm(\u001b[39mrange\u001b[39m(\u001b[39m1000\u001b[39m))):\n\u001b[0;32m---> 53\u001b[0m     trajectories \u001b[39m=\u001b[39m sampler\u001b[39m.\u001b[39;49msample_trajectories(env\u001b[39m=\u001b[39;49menv, n_trajectories\u001b[39m=\u001b[39;49m\u001b[39m16\u001b[39;49m)\n\u001b[1;32m     54\u001b[0m     optimizer\u001b[39m.\u001b[39mzero_grad()\n\u001b[1;32m     55\u001b[0m     loss \u001b[39m=\u001b[39m gfn\u001b[39m.\u001b[39mloss(env, trajectories)\n",
      "File \u001b[0;32m~/.local/lib/python3.10/site-packages/gfn/samplers.py:132\u001b[0m, in \u001b[0;36mSampler.sample_trajectories\u001b[0;34m(self, env, states, n_trajectories)\u001b[0m\n\u001b[1;32m    130\u001b[0m \u001b[39melse\u001b[39;00m:\n\u001b[1;32m    131\u001b[0m     new_states \u001b[39m=\u001b[39m env\u001b[39m.\u001b[39mstep(states, actions)\n\u001b[0;32m--> 132\u001b[0m sink_states_mask \u001b[39m=\u001b[39m new_states\u001b[39m.\u001b[39;49mis_sink_state\n\u001b[1;32m    134\u001b[0m step \u001b[39m+\u001b[39m\u001b[39m=\u001b[39m \u001b[39m1\u001b[39m\n\u001b[1;32m    136\u001b[0m new_dones \u001b[39m=\u001b[39m (\n\u001b[1;32m    137\u001b[0m     new_states\u001b[39m.\u001b[39mis_initial_state\n\u001b[1;32m    138\u001b[0m     \u001b[39mif\u001b[39;00m \u001b[39mself\u001b[39m\u001b[39m.\u001b[39mestimator\u001b[39m.\u001b[39mis_backward\n\u001b[1;32m    139\u001b[0m     \u001b[39melse\u001b[39;00m sink_states_mask\n\u001b[1;32m    140\u001b[0m ) \u001b[39m&\u001b[39m \u001b[39m~\u001b[39mdones\n",
      "File \u001b[0;32m~/.local/lib/python3.10/site-packages/gfn/states.py:247\u001b[0m, in \u001b[0;36mStates.is_sink_state\u001b[0;34m(self)\u001b[0m\n\u001b[1;32m    243\u001b[0m \u001b[39m\u001b[39m\u001b[39m\"\"\"Return a tensor that is True for states that are $s_f$ of the DAG.\"\"\"\u001b[39;00m\n\u001b[1;32m    244\u001b[0m sink_states \u001b[39m=\u001b[39m \u001b[39mself\u001b[39m\u001b[39m.\u001b[39m\u001b[39m__class__\u001b[39m\u001b[39m.\u001b[39msf\u001b[39m.\u001b[39mrepeat(\n\u001b[1;32m    245\u001b[0m     \u001b[39m*\u001b[39m\u001b[39mself\u001b[39m\u001b[39m.\u001b[39mbatch_shape, \u001b[39m*\u001b[39m((\u001b[39m1\u001b[39m,) \u001b[39m*\u001b[39m \u001b[39mlen\u001b[39m(\u001b[39mself\u001b[39m\u001b[39m.\u001b[39m\u001b[39m__class__\u001b[39m\u001b[39m.\u001b[39mstate_shape))\n\u001b[1;32m    246\u001b[0m )\u001b[39m.\u001b[39mto(\u001b[39mself\u001b[39m\u001b[39m.\u001b[39mtensor\u001b[39m.\u001b[39mdevice)\n\u001b[0;32m--> 247\u001b[0m \u001b[39mreturn\u001b[39;00m \u001b[39mself\u001b[39;49m\u001b[39m.\u001b[39;49mcompare(sink_states)\n",
      "File \u001b[0;32m~/.local/lib/python3.10/site-packages/gfn/states.py:228\u001b[0m, in \u001b[0;36mStates.compare\u001b[0;34m(self, other)\u001b[0m\n\u001b[1;32m    219\u001b[0m \u001b[39m\u001b[39m\u001b[39m\"\"\"Computes elementwise equality between state tensor with an external tensor.\u001b[39;00m\n\u001b[1;32m    220\u001b[0m \n\u001b[1;32m    221\u001b[0m \u001b[39mArgs:\u001b[39;00m\n\u001b[0;32m   (...)\u001b[0m\n\u001b[1;32m    225\u001b[0m \u001b[39m    states in self.\u001b[39;00m\n\u001b[1;32m    226\u001b[0m \u001b[39m\"\"\"\u001b[39;00m\n\u001b[1;32m    227\u001b[0m out \u001b[39m=\u001b[39m \u001b[39mself\u001b[39m\u001b[39m.\u001b[39mtensor \u001b[39m==\u001b[39m other\n\u001b[0;32m--> 228\u001b[0m state_ndim \u001b[39m=\u001b[39m \u001b[39mlen\u001b[39;49m(\u001b[39mself\u001b[39;49m\u001b[39m.\u001b[39;49m\u001b[39m__class__\u001b[39;49m\u001b[39m.\u001b[39;49mstate_shape)\n\u001b[1;32m    229\u001b[0m \u001b[39mfor\u001b[39;00m _ \u001b[39min\u001b[39;00m \u001b[39mrange\u001b[39m(state_ndim):\n\u001b[1;32m    230\u001b[0m     out \u001b[39m=\u001b[39m out\u001b[39m.\u001b[39mall(dim\u001b[39m=\u001b[39m\u001b[39m-\u001b[39m\u001b[39m1\u001b[39m)\n",
      "\u001b[0;31mKeyboardInterrupt\u001b[0m: "
     ]
    }
   ],
   "source": [
    "import torch\n",
    "from tqdm import tqdm\n",
    "\n",
    "from gfn.gflownet import TBGFlowNet  # We use a GFlowNet with the Trajectory Balance (TB) loss\n",
    "from gfn.gym import HyperGrid  # We use the hyper grid environment\n",
    "from gfn.modules import DiscretePolicyEstimator\n",
    "from gfn.samplers import Sampler\n",
    "from gfn.utils import NeuralNet  # NeuralNet is a simple multi-layer perceptron (MLP)\n",
    "\n",
    "if __name__ == \"__main__\":\n",
    "\n",
    "    # 1 - We define the environment\n",
    "\n",
    "    env = HyperGrid(ndim=4, height=8, R0=0.01)  # Grid of size 8x8x8x8\n",
    "\n",
    "    # 2 - We define the needed modules (neural networks)\n",
    "\n",
    "    # The environment has a preprocessor attribute, which is used to preprocess the state before feeding it to the policy estimator\n",
    "    module_PF = NeuralNet(\n",
    "        input_dim=env.preprocessor.output_dim,\n",
    "        output_dim=env.n_actions\n",
    "    )  # Neural network for the forward policy, with as many outputs as there are actions\n",
    "    module_PB = NeuralNet(\n",
    "        input_dim=env.preprocessor.output_dim,\n",
    "        output_dim=env.n_actions - 1,\n",
    "        torso=module_PF.torso  # We share all the parameters of P_F and P_B, except for the last layer\n",
    "    )\n",
    "\n",
    "    # 3 - We define the estimators\n",
    "\n",
    "    pf_estimator = DiscretePolicyEstimator(module_PF, env.n_actions, is_backward=False, preprocessor=env.preprocessor)\n",
    "    pb_estimator = DiscretePolicyEstimator(module_PB, env.n_actions, is_backward=True, preprocessor=env.preprocessor)\n",
    "\n",
    "    # 4 - We define the GFlowNet\n",
    "\n",
    "    gfn = TBGFlowNet(init_logZ=0., pf=pf_estimator, pb=pb_estimator)  # We initialize logZ to 0\n",
    "\n",
    "    # 5 - We define the sampler and the optimizer\n",
    "\n",
    "    sampler = Sampler(estimator=pf_estimator)  # We use an on-policy sampler, based on the forward policy\n",
    "\n",
    "    # Policy parameters have their own LR.\n",
    "    non_logz_params = [v for k, v in dict(gfn.named_parameters()).items() if k != \"logZ\"]\n",
    "    optimizer = torch.optim.Adam(non_logz_params, lr=1e-3)\n",
    "\n",
    "    # Log Z gets dedicated learning rate (typically higher).\n",
    "    logz_params = [dict(gfn.named_parameters())[\"logZ\"]]\n",
    "    optimizer.add_param_group({\"params\": logz_params, \"lr\": 1e-1})\n",
    "\n",
    "    # 6 - We train the GFlowNet for 1000 iterations, with 16 trajectories per iteration\n",
    "\n",
    "    for i in (pbar := tqdm(range(1000))):\n",
    "        trajectories = sampler.sample_trajectories(env=env, n_trajectories=16)\n",
    "        optimizer.zero_grad()\n",
    "        loss = gfn.loss(env, trajectories)\n",
    "        loss.backward()\n",
    "        optimizer.step()\n",
    "        if i % 25 == 0:\n",
    "            pbar.set_postfix({\"loss\": loss.item()})"
   ]
  },
  {
   "cell_type": "code",
   "execution_count": null,
   "metadata": {},
   "outputs": [],
   "source": []
  },
  {
   "cell_type": "code",
   "execution_count": 174,
   "metadata": {},
   "outputs": [
    {
     "ename": "TypeError",
     "evalue": "DiscreteStates.__init__() missing 1 required positional argument: 'tensor'",
     "output_type": "error",
     "traceback": [
      "\u001b[0;31m---------------------------------------------------------------------------\u001b[0m",
      "\u001b[0;31mTypeError\u001b[0m                                 Traceback (most recent call last)",
      "Cell \u001b[0;32mIn[174], line 2\u001b[0m\n\u001b[1;32m      1\u001b[0m states_class \u001b[39m=\u001b[39m env\u001b[39m.\u001b[39mmake_States_class()\n\u001b[0;32m----> 2\u001b[0m obj \u001b[39m=\u001b[39m states_class()\n",
      "\u001b[0;31mTypeError\u001b[0m: DiscreteStates.__init__() missing 1 required positional argument: 'tensor'"
     ]
    }
   ],
   "source": [
    "states_class = env.make_States_class()\n",
    "obj = states_class()"
   ]
  },
  {
   "cell_type": "code",
   "execution_count": null,
   "metadata": {},
   "outputs": [],
   "source": []
  },
  {
   "cell_type": "code",
   "execution_count": 239,
   "metadata": {},
   "outputs": [],
   "source": [
    "import pandas as pd\n",
    "import pyarrow\n",
    "import fastparquet"
   ]
  },
  {
   "cell_type": "code",
   "execution_count": 240,
   "metadata": {},
   "outputs": [],
   "source": [
    "parquet_file = \"train-00000-of-00001-cced8514c7ed782a.parquet\"\n",
    "df = pd.read_parquet(parquet_file, engine='pyarrow')"
   ]
  },
  {
   "cell_type": "code",
   "execution_count": 260,
   "metadata": {},
   "outputs": [
    {
     "data": {
      "text/html": [
       "<div>\n",
       "<style scoped>\n",
       "    .dataframe tbody tr th:only-of-type {\n",
       "        vertical-align: middle;\n",
       "    }\n",
       "\n",
       "    .dataframe tbody tr th {\n",
       "        vertical-align: top;\n",
       "    }\n",
       "\n",
       "    .dataframe thead th {\n",
       "        text-align: right;\n",
       "    }\n",
       "</style>\n",
       "<table border=\"1\" class=\"dataframe\">\n",
       "  <thead>\n",
       "    <tr style=\"text-align: right;\">\n",
       "      <th></th>\n",
       "      <th>question_id</th>\n",
       "      <th>model_a</th>\n",
       "      <th>model_b</th>\n",
       "      <th>winner</th>\n",
       "      <th>judge</th>\n",
       "      <th>conversation_a</th>\n",
       "      <th>conversation_b</th>\n",
       "      <th>turn</th>\n",
       "      <th>anony</th>\n",
       "      <th>language</th>\n",
       "      <th>tstamp</th>\n",
       "      <th>openai_moderation</th>\n",
       "      <th>toxic_chat_tag</th>\n",
       "    </tr>\n",
       "  </thead>\n",
       "  <tbody>\n",
       "    <tr>\n",
       "      <th>0</th>\n",
       "      <td>58210e39b3fd4441a2bd4a518bb44c2d</td>\n",
       "      <td>chatglm-6b</td>\n",
       "      <td>koala-13b</td>\n",
       "      <td>model_b</td>\n",
       "      <td>arena_user_973</td>\n",
       "      <td>[{'content': 'What is the difference between O...</td>\n",
       "      <td>[{'content': 'What is the difference between O...</td>\n",
       "      <td>1</td>\n",
       "      <td>True</td>\n",
       "      <td>English</td>\n",
       "      <td>1.682352e+09</td>\n",
       "      <td>{'categories': {'harassment': False, 'harassme...</td>\n",
       "      <td>{'roberta-large': {'flagged': False, 'probabil...</td>\n",
       "    </tr>\n",
       "    <tr>\n",
       "      <th>1</th>\n",
       "      <td>2564acd09e3942fd97657d05282d4389</td>\n",
       "      <td>oasst-pythia-12b</td>\n",
       "      <td>alpaca-13b</td>\n",
       "      <td>tie</td>\n",
       "      <td>arena_user_973</td>\n",
       "      <td>[{'content': 'Why did my parent not invite me ...</td>\n",
       "      <td>[{'content': 'Why did my parent not invite me ...</td>\n",
       "      <td>1</td>\n",
       "      <td>True</td>\n",
       "      <td>English</td>\n",
       "      <td>1.682352e+09</td>\n",
       "      <td>{'categories': {'harassment': False, 'harassme...</td>\n",
       "      <td>{'roberta-large': {'flagged': False, 'probabil...</td>\n",
       "    </tr>\n",
       "    <tr>\n",
       "      <th>2</th>\n",
       "      <td>90bfd142157948aba01931726c888e7f</td>\n",
       "      <td>koala-13b</td>\n",
       "      <td>oasst-pythia-12b</td>\n",
       "      <td>model_b</td>\n",
       "      <td>arena_user_973</td>\n",
       "      <td>[{'content': 'Fuji vs. Nikon, which is better?...</td>\n",
       "      <td>[{'content': 'Fuji vs. Nikon, which is better?...</td>\n",
       "      <td>1</td>\n",
       "      <td>True</td>\n",
       "      <td>English</td>\n",
       "      <td>1.682352e+09</td>\n",
       "      <td>{'categories': {'harassment': False, 'harassme...</td>\n",
       "      <td>{'roberta-large': {'flagged': False, 'probabil...</td>\n",
       "    </tr>\n",
       "    <tr>\n",
       "      <th>3</th>\n",
       "      <td>a7c5accc53e649a3bc6b2e41d962ebc4</td>\n",
       "      <td>vicuna-13b</td>\n",
       "      <td>oasst-pythia-12b</td>\n",
       "      <td>model_b</td>\n",
       "      <td>arena_user_973</td>\n",
       "      <td>[{'content': 'How to build an arena for chatbo...</td>\n",
       "      <td>[{'content': 'How to build an arena for chatbo...</td>\n",
       "      <td>1</td>\n",
       "      <td>True</td>\n",
       "      <td>English</td>\n",
       "      <td>1.682352e+09</td>\n",
       "      <td>{'categories': {'harassment': False, 'harassme...</td>\n",
       "      <td>{'roberta-large': {'flagged': False, 'probabil...</td>\n",
       "    </tr>\n",
       "    <tr>\n",
       "      <th>4</th>\n",
       "      <td>adf27e819a3c494cb6e993f0c660e097</td>\n",
       "      <td>vicuna-13b</td>\n",
       "      <td>koala-13b</td>\n",
       "      <td>model_a</td>\n",
       "      <td>arena_user_973</td>\n",
       "      <td>[{'content': 'When is it today?', 'role': 'use...</td>\n",
       "      <td>[{'content': 'When is it today?', 'role': 'use...</td>\n",
       "      <td>1</td>\n",
       "      <td>True</td>\n",
       "      <td>English</td>\n",
       "      <td>1.682352e+09</td>\n",
       "      <td>{'categories': {'harassment': False, 'harassme...</td>\n",
       "      <td>{'roberta-large': {'flagged': False, 'probabil...</td>\n",
       "    </tr>\n",
       "  </tbody>\n",
       "</table>\n",
       "</div>"
      ],
      "text/plain": [
       "                        question_id           model_a           model_b  \\\n",
       "0  58210e39b3fd4441a2bd4a518bb44c2d        chatglm-6b         koala-13b   \n",
       "1  2564acd09e3942fd97657d05282d4389  oasst-pythia-12b        alpaca-13b   \n",
       "2  90bfd142157948aba01931726c888e7f         koala-13b  oasst-pythia-12b   \n",
       "3  a7c5accc53e649a3bc6b2e41d962ebc4        vicuna-13b  oasst-pythia-12b   \n",
       "4  adf27e819a3c494cb6e993f0c660e097        vicuna-13b         koala-13b   \n",
       "\n",
       "    winner           judge                                     conversation_a  \\\n",
       "0  model_b  arena_user_973  [{'content': 'What is the difference between O...   \n",
       "1      tie  arena_user_973  [{'content': 'Why did my parent not invite me ...   \n",
       "2  model_b  arena_user_973  [{'content': 'Fuji vs. Nikon, which is better?...   \n",
       "3  model_b  arena_user_973  [{'content': 'How to build an arena for chatbo...   \n",
       "4  model_a  arena_user_973  [{'content': 'When is it today?', 'role': 'use...   \n",
       "\n",
       "                                      conversation_b  turn  anony language  \\\n",
       "0  [{'content': 'What is the difference between O...     1   True  English   \n",
       "1  [{'content': 'Why did my parent not invite me ...     1   True  English   \n",
       "2  [{'content': 'Fuji vs. Nikon, which is better?...     1   True  English   \n",
       "3  [{'content': 'How to build an arena for chatbo...     1   True  English   \n",
       "4  [{'content': 'When is it today?', 'role': 'use...     1   True  English   \n",
       "\n",
       "         tstamp                                  openai_moderation  \\\n",
       "0  1.682352e+09  {'categories': {'harassment': False, 'harassme...   \n",
       "1  1.682352e+09  {'categories': {'harassment': False, 'harassme...   \n",
       "2  1.682352e+09  {'categories': {'harassment': False, 'harassme...   \n",
       "3  1.682352e+09  {'categories': {'harassment': False, 'harassme...   \n",
       "4  1.682352e+09  {'categories': {'harassment': False, 'harassme...   \n",
       "\n",
       "                                      toxic_chat_tag  \n",
       "0  {'roberta-large': {'flagged': False, 'probabil...  \n",
       "1  {'roberta-large': {'flagged': False, 'probabil...  \n",
       "2  {'roberta-large': {'flagged': False, 'probabil...  \n",
       "3  {'roberta-large': {'flagged': False, 'probabil...  \n",
       "4  {'roberta-large': {'flagged': False, 'probabil...  "
      ]
     },
     "execution_count": 260,
     "metadata": {},
     "output_type": "execute_result"
    }
   ],
   "source": [
    "df.head()"
   ]
  },
  {
   "cell_type": "code",
   "execution_count": 414,
   "metadata": {},
   "outputs": [],
   "source": [
    "w_df = pd.DataFrame()"
   ]
  },
  {
   "cell_type": "code",
   "execution_count": 415,
   "metadata": {},
   "outputs": [
    {
     "data": {
      "text/html": [
       "<div>\n",
       "<style scoped>\n",
       "    .dataframe tbody tr th:only-of-type {\n",
       "        vertical-align: middle;\n",
       "    }\n",
       "\n",
       "    .dataframe tbody tr th {\n",
       "        vertical-align: top;\n",
       "    }\n",
       "\n",
       "    .dataframe thead th {\n",
       "        text-align: right;\n",
       "    }\n",
       "</style>\n",
       "<table border=\"1\" class=\"dataframe\">\n",
       "  <thead>\n",
       "    <tr style=\"text-align: right;\">\n",
       "      <th></th>\n",
       "    </tr>\n",
       "  </thead>\n",
       "  <tbody>\n",
       "  </tbody>\n",
       "</table>\n",
       "</div>"
      ],
      "text/plain": [
       "Empty DataFrame\n",
       "Columns: []\n",
       "Index: []"
      ]
     },
     "execution_count": 415,
     "metadata": {},
     "output_type": "execute_result"
    }
   ],
   "source": [
    "Llama-2-70b-chat\n",
    "WizardLM-70b-v1.0\n",
    "gpt-3.5-turbo\n",
    "Claude-instant-v1"
   ]
  },
  {
   "cell_type": "code",
   "execution_count": 456,
   "metadata": {},
   "outputs": [
    {
     "name": "stdout",
     "output_type": "stream",
     "text": [
      "{'wizardlm-13b'}\n"
     ]
    }
   ],
   "source": [
    "wizards = []\n",
    "for index, row in df.iterrows():\n",
    "    if('wizardlm' in row['model_a']):\n",
    "        wizards.append(row['model_a'])\n",
    "    if('wizardlm' in row['model_b']):\n",
    "        wizards.append(row['model_b'])\n",
    "\n",
    "print(set(wizards))"
   ]
  },
  {
   "cell_type": "code",
   "execution_count": 457,
   "metadata": {},
   "outputs": [
    {
     "name": "stdout",
     "output_type": "stream",
     "text": [
      "{'llama-13b'}\n"
     ]
    }
   ],
   "source": [
    "wizards = []\n",
    "for index, row in df.iterrows():\n",
    "    if('llama' in row['model_a']):\n",
    "        wizards.append(row['model_a'])\n",
    "    if('llama' in row['model_b']):\n",
    "        wizards.append(row['model_b'])\n",
    "\n",
    "print(set(wizards))"
   ]
  },
  {
   "cell_type": "code",
   "execution_count": null,
   "metadata": {},
   "outputs": [],
   "source": []
  },
  {
   "cell_type": "code",
   "execution_count": 470,
   "metadata": {},
   "outputs": [],
   "source": [
    "gpt4_indices = []\n",
    "gpt35_indices = []\n",
    "tie_indices = []\n",
    "claude_indices = []\n",
    "tie_bothbad_indices = []\n",
    "winning_conversations = []\n",
    "desireable_models = ['claude-instant-v1', 'claude-v1', 'gpt-4', 'gpt-3.5-turbo', 'palm-2']\n",
    "desireable_models = ['claude-instant-v1', 'gpt-4', 'gpt-3.5-turbo']\n",
    "a = 0\n",
    "b = 0\n",
    "for index, row in df.iterrows():\n",
    "    models = [row['model_a'], row['model_b']]\n",
    "    #print(row['model_a'] == 'gpt-4' and row['model_b'] == 'claude-v1')\n",
    "    if(row['model_a'] in desireable_models and row['model_b'] in desireable_models):\n",
    "        \n",
    "        if(row['winner'] == 'tie'):\n",
    "            continue\n",
    "            winning_conversations.append(row['conversation_a'])\n",
    "            winning_conversations.append(row['conversation_b'])\n",
    "        elif(row['winner'] == 'model_a' and row['model_a'] == 'gpt-4'):\n",
    "            if(row['model_b'] ==  'claude-instant-v1'):\n",
    "                a += 1\n",
    "            elif(row['model_b'] == 'gpt-3.5-turbo'):\n",
    "                b += 1\n",
    "            winning_conversations.append(row['conversation_a'])\n",
    "\n",
    "        elif(row['winner'] == 'model_b' and row['model_b'] == 'gpt-4'):\n",
    "            winning_conversations.append(row['conversation_b'])\n",
    "            if(row['model_a'] ==  'claude-instant-v1'):\n",
    "                a += 1\n",
    "            elif(row['model_a'] == 'gpt-3.5-turbo'):\n",
    "                b += 1\n",
    "            else:\n",
    "                print()\n",
    "\n",
    "    if('gpt-4' in models and ('gpt-3.5-turbo' in models)):\n",
    "        if(row['winner'] == 'tie'):\n",
    "            tie_indices.append(index)\n",
    "        elif('tie' not in row['winner'] and row[row['winner']] == 'gpt-4'):\n",
    "            gpt4_indices.append(index)\n",
    "        elif('tie' not in row['winner'] and 'gpt-3.5-turbo' in row[row['winner']]):\n",
    "            gpt35_indices.append(index)\n",
    "        else:\n",
    "            tie_bothbad_indices.append(index)"
   ]
  },
  {
   "cell_type": "code",
   "execution_count": 474,
   "metadata": {},
   "outputs": [
    {
     "data": {
      "text/plain": [
       "255"
      ]
     },
     "execution_count": 474,
     "metadata": {},
     "output_type": "execute_result"
    }
   ],
   "source": [
    "len(winning_conversations)"
   ]
  },
  {
   "cell_type": "code",
   "execution_count": 447,
   "metadata": {},
   "outputs": [],
   "source": [
    "import numpy as np\n"
   ]
  },
  {
   "cell_type": "code",
   "execution_count": 475,
   "metadata": {},
   "outputs": [],
   "source": [
    "np.save('gpt4_conversations_2', np.array(winning_conversations, dtype='object'))"
   ]
  },
  {
   "cell_type": "code",
   "execution_count": 438,
   "metadata": {},
   "outputs": [],
   "source": [
    "new_df = pd.DataFrame(winning_conversations)"
   ]
  },
  {
   "cell_type": "code",
   "execution_count": 417,
   "metadata": {},
   "outputs": [
    {
     "name": "stdout",
     "output_type": "stream",
     "text": [
      "363\n"
     ]
    }
   ],
   "source": [
    "total = len(gpt4_indices) + len(tie_indices) + len(tie_bothbad_indices) + len(gpt35_indices)\n",
    "print(total)"
   ]
  },
  {
   "cell_type": "code",
   "execution_count": 419,
   "metadata": {},
   "outputs": [],
   "source": [
    "gpt_won = len(gpt4_indices) / total\n",
    "tie = len(tie_indices) / total\n",
    "gpt35_won = len(gpt35_indices) / total\n",
    "tie_bothbad = len(tie_bothbad_indices) / total"
   ]
  },
  {
   "cell_type": "code",
   "execution_count": null,
   "metadata": {},
   "outputs": [],
   "source": []
  },
  {
   "cell_type": "code",
   "execution_count": 420,
   "metadata": {},
   "outputs": [],
   "source": [
    "import matplotlib.pyplot as plt"
   ]
  },
  {
   "cell_type": "code",
   "execution_count": 421,
   "metadata": {},
   "outputs": [
    {
     "data": {
      "text/plain": [
       "Text(0.5, 1.0, 'Preferred LLM response')"
      ]
     },
     "execution_count": 421,
     "metadata": {},
     "output_type": "execute_result"
    },
    {
     "data": {
      "image/png": "[encoded data removed]",
      "text/plain": [
       "<Figure size 640x480 with 1 Axes>"
      ]
     },
     "metadata": {},
     "output_type": "display_data"
    }
   ],
   "source": [
    "import matplotlib.pyplot as plt\n",
    "\n",
    "labels = 'GPT-4', 'GPT-3.5-Turbo', 'Tie', 'Tie (both are bad)'\n",
    "sizes = [gpt_won, gpt35_won, tie, tie_bothbad]\n",
    "fig, ax = plt.subplots()\n",
    "ax.pie(sizes, labels=labels, autopct='%1.1f%%')\n",
    "plt.title(\"Preferred LLM response\")"
   ]
  }
 ],
 "metadata": {
  "kernelspec": {
   "display_name": "Python 3",
   "language": "python",
   "name": "python3"
  },
  "language_info": {
   "codemirror_mode": {
    "name": "ipython",
    "version": 3
   },
   "file_extension": ".py",
   "mimetype": "text/x-python",
   "name": "python",
   "nbconvert_exporter": "python",
   "pygments_lexer": "ipython3",
   "version": "3.10.12"
  },
  "orig_nbformat": 4
 },
 "nbformat": 4,
 "nbformat_minor": 2
}
